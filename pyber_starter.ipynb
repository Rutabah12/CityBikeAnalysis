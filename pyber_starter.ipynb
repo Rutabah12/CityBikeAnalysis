{
 "cells": [
  {
   "cell_type": "code",
   "execution_count": 1,
   "metadata": {},
   "outputs": [
    {
     "data": {
      "text/html": [
       "<div>\n",
       "<style scoped>\n",
       "    .dataframe tbody tr th:only-of-type {\n",
       "        vertical-align: middle;\n",
       "    }\n",
       "\n",
       "    .dataframe tbody tr th {\n",
       "        vertical-align: top;\n",
       "    }\n",
       "\n",
       "    .dataframe thead th {\n",
       "        text-align: right;\n",
       "    }\n",
       "</style>\n",
       "<table border=\"1\" class=\"dataframe\">\n",
       "  <thead>\n",
       "    <tr style=\"text-align: right;\">\n",
       "      <th></th>\n",
       "      <th>city</th>\n",
       "      <th>driver_count</th>\n",
       "      <th>type</th>\n",
       "      <th>date</th>\n",
       "      <th>fare</th>\n",
       "      <th>ride_id</th>\n",
       "    </tr>\n",
       "  </thead>\n",
       "  <tbody>\n",
       "    <tr>\n",
       "      <th>1520</th>\n",
       "      <td>Amandaburgh</td>\n",
       "      <td>12</td>\n",
       "      <td>Urban</td>\n",
       "      <td>2018-03-05 02:15:38</td>\n",
       "      <td>26.28</td>\n",
       "      <td>906850928986</td>\n",
       "    </tr>\n",
       "    <tr>\n",
       "      <th>1521</th>\n",
       "      <td>Amandaburgh</td>\n",
       "      <td>12</td>\n",
       "      <td>Urban</td>\n",
       "      <td>2018-02-24 23:10:49</td>\n",
       "      <td>43.66</td>\n",
       "      <td>6573820412437</td>\n",
       "    </tr>\n",
       "    <tr>\n",
       "      <th>1522</th>\n",
       "      <td>Amandaburgh</td>\n",
       "      <td>12</td>\n",
       "      <td>Urban</td>\n",
       "      <td>2018-02-10 20:42:46</td>\n",
       "      <td>36.17</td>\n",
       "      <td>6455620849753</td>\n",
       "    </tr>\n",
       "    <tr>\n",
       "      <th>1523</th>\n",
       "      <td>Amandaburgh</td>\n",
       "      <td>12</td>\n",
       "      <td>Urban</td>\n",
       "      <td>2018-01-11 02:22:07</td>\n",
       "      <td>29.24</td>\n",
       "      <td>7279902884763</td>\n",
       "    </tr>\n",
       "    <tr>\n",
       "      <th>1524</th>\n",
       "      <td>Amandaburgh</td>\n",
       "      <td>12</td>\n",
       "      <td>Urban</td>\n",
       "      <td>2018-01-21 04:12:54</td>\n",
       "      <td>9.26</td>\n",
       "      <td>5528427024492</td>\n",
       "    </tr>\n",
       "    <tr>\n",
       "      <th>1525</th>\n",
       "      <td>Amandaburgh</td>\n",
       "      <td>12</td>\n",
       "      <td>Urban</td>\n",
       "      <td>2018-04-19 16:30:12</td>\n",
       "      <td>6.27</td>\n",
       "      <td>4400632718421</td>\n",
       "    </tr>\n",
       "    <tr>\n",
       "      <th>1526</th>\n",
       "      <td>Amandaburgh</td>\n",
       "      <td>12</td>\n",
       "      <td>Urban</td>\n",
       "      <td>2018-03-20 07:40:33</td>\n",
       "      <td>27.45</td>\n",
       "      <td>3701008274871</td>\n",
       "    </tr>\n",
       "    <tr>\n",
       "      <th>1527</th>\n",
       "      <td>Amandaburgh</td>\n",
       "      <td>12</td>\n",
       "      <td>Urban</td>\n",
       "      <td>2018-04-01 09:24:21</td>\n",
       "      <td>24.29</td>\n",
       "      <td>1995462170530</td>\n",
       "    </tr>\n",
       "    <tr>\n",
       "      <th>1528</th>\n",
       "      <td>Amandaburgh</td>\n",
       "      <td>12</td>\n",
       "      <td>Urban</td>\n",
       "      <td>2018-04-20 02:16:07</td>\n",
       "      <td>16.27</td>\n",
       "      <td>3513123734716</td>\n",
       "    </tr>\n",
       "    <tr>\n",
       "      <th>1529</th>\n",
       "      <td>Amandaburgh</td>\n",
       "      <td>12</td>\n",
       "      <td>Urban</td>\n",
       "      <td>2018-03-13 12:52:31</td>\n",
       "      <td>13.88</td>\n",
       "      <td>6222134922674</td>\n",
       "    </tr>\n",
       "    <tr>\n",
       "      <th>1530</th>\n",
       "      <td>Amandaburgh</td>\n",
       "      <td>12</td>\n",
       "      <td>Urban</td>\n",
       "      <td>2018-04-22 21:34:17</td>\n",
       "      <td>42.52</td>\n",
       "      <td>1901157522591</td>\n",
       "    </tr>\n",
       "    <tr>\n",
       "      <th>1531</th>\n",
       "      <td>Amandaburgh</td>\n",
       "      <td>12</td>\n",
       "      <td>Urban</td>\n",
       "      <td>2018-02-06 10:02:30</td>\n",
       "      <td>11.93</td>\n",
       "      <td>7550325158038</td>\n",
       "    </tr>\n",
       "    <tr>\n",
       "      <th>1532</th>\n",
       "      <td>Amandaburgh</td>\n",
       "      <td>12</td>\n",
       "      <td>Urban</td>\n",
       "      <td>2018-04-24 08:02:27</td>\n",
       "      <td>14.55</td>\n",
       "      <td>7836117055007</td>\n",
       "    </tr>\n",
       "    <tr>\n",
       "      <th>1533</th>\n",
       "      <td>Amandaburgh</td>\n",
       "      <td>12</td>\n",
       "      <td>Urban</td>\n",
       "      <td>2018-04-05 10:22:33</td>\n",
       "      <td>25.55</td>\n",
       "      <td>8581415267582</td>\n",
       "    </tr>\n",
       "    <tr>\n",
       "      <th>1534</th>\n",
       "      <td>Amandaburgh</td>\n",
       "      <td>12</td>\n",
       "      <td>Urban</td>\n",
       "      <td>2018-03-07 02:26:33</td>\n",
       "      <td>18.76</td>\n",
       "      <td>3419454549176</td>\n",
       "    </tr>\n",
       "    <tr>\n",
       "      <th>1535</th>\n",
       "      <td>Amandaburgh</td>\n",
       "      <td>12</td>\n",
       "      <td>Urban</td>\n",
       "      <td>2018-01-02 09:57:04</td>\n",
       "      <td>33.06</td>\n",
       "      <td>6330658179518</td>\n",
       "    </tr>\n",
       "    <tr>\n",
       "      <th>1536</th>\n",
       "      <td>Amandaburgh</td>\n",
       "      <td>12</td>\n",
       "      <td>Urban</td>\n",
       "      <td>2018-01-13 16:04:10</td>\n",
       "      <td>23.35</td>\n",
       "      <td>9975084532253</td>\n",
       "    </tr>\n",
       "    <tr>\n",
       "      <th>1537</th>\n",
       "      <td>Amandaburgh</td>\n",
       "      <td>12</td>\n",
       "      <td>Urban</td>\n",
       "      <td>2018-01-29 23:28:12</td>\n",
       "      <td>41.06</td>\n",
       "      <td>4296858665195</td>\n",
       "    </tr>\n",
       "  </tbody>\n",
       "</table>\n",
       "</div>"
      ],
      "text/plain": [
       "             city  driver_count   type                 date   fare  \\\n",
       "1520  Amandaburgh            12  Urban  2018-03-05 02:15:38  26.28   \n",
       "1521  Amandaburgh            12  Urban  2018-02-24 23:10:49  43.66   \n",
       "1522  Amandaburgh            12  Urban  2018-02-10 20:42:46  36.17   \n",
       "1523  Amandaburgh            12  Urban  2018-01-11 02:22:07  29.24   \n",
       "1524  Amandaburgh            12  Urban  2018-01-21 04:12:54   9.26   \n",
       "1525  Amandaburgh            12  Urban  2018-04-19 16:30:12   6.27   \n",
       "1526  Amandaburgh            12  Urban  2018-03-20 07:40:33  27.45   \n",
       "1527  Amandaburgh            12  Urban  2018-04-01 09:24:21  24.29   \n",
       "1528  Amandaburgh            12  Urban  2018-04-20 02:16:07  16.27   \n",
       "1529  Amandaburgh            12  Urban  2018-03-13 12:52:31  13.88   \n",
       "1530  Amandaburgh            12  Urban  2018-04-22 21:34:17  42.52   \n",
       "1531  Amandaburgh            12  Urban  2018-02-06 10:02:30  11.93   \n",
       "1532  Amandaburgh            12  Urban  2018-04-24 08:02:27  14.55   \n",
       "1533  Amandaburgh            12  Urban  2018-04-05 10:22:33  25.55   \n",
       "1534  Amandaburgh            12  Urban  2018-03-07 02:26:33  18.76   \n",
       "1535  Amandaburgh            12  Urban  2018-01-02 09:57:04  33.06   \n",
       "1536  Amandaburgh            12  Urban  2018-01-13 16:04:10  23.35   \n",
       "1537  Amandaburgh            12  Urban  2018-01-29 23:28:12  41.06   \n",
       "\n",
       "            ride_id  \n",
       "1520   906850928986  \n",
       "1521  6573820412437  \n",
       "1522  6455620849753  \n",
       "1523  7279902884763  \n",
       "1524  5528427024492  \n",
       "1525  4400632718421  \n",
       "1526  3701008274871  \n",
       "1527  1995462170530  \n",
       "1528  3513123734716  \n",
       "1529  6222134922674  \n",
       "1530  1901157522591  \n",
       "1531  7550325158038  \n",
       "1532  7836117055007  \n",
       "1533  8581415267582  \n",
       "1534  3419454549176  \n",
       "1535  6330658179518  \n",
       "1536  9975084532253  \n",
       "1537  4296858665195  "
      ]
     },
     "execution_count": 1,
     "metadata": {},
     "output_type": "execute_result"
    }
   ],
   "source": [
    "%matplotlib inline\n",
    "# Dependencies and Setup\n",
    "import matplotlib.pyplot as plt\n",
    "import pandas as pd\n",
    "\n",
    "# File to Load (Remember to change these)\n",
    "city_data_to_load = \"data/city_data.csv\"\n",
    "ride_data_to_load = \"data/ride_data.csv\"\n",
    "\n",
    "# Read the City and Ride Data\n",
    "city_data=pd.read_csv(city_data_to_load)\n",
    "ride_data=pd.read_csv(ride_data_to_load)\n",
    "\n",
    "# Combine the data into a single dataset\n",
    "combine_data=pd.merge(city_data, ride_data, on=\"city\")\n",
    "\n",
    "# Display the data table for preview\n",
    "combine_data[combine_data.city=='Amandaburgh']\n"
   ]
  },
  {
   "cell_type": "code",
   "execution_count": null,
   "metadata": {
    "scrolled": true
   },
   "outputs": [],
   "source": []
  },
  {
   "cell_type": "markdown",
   "metadata": {},
   "source": [
    "## Bubble Plot of Ride Sharing Data"
   ]
  },
  {
   "cell_type": "code",
   "execution_count": 22,
   "metadata": {},
   "outputs": [
    {
     "data": {
      "image/png": "[encoded data removed]",
      "text/plain": [
       "<Figure size 432x288 with 1 Axes>"
      ]
     },
     "metadata": {
      "needs_background": "light"
     },
     "output_type": "display_data"
    }
   ],
   "source": [
    "# Obtain the x and y coordinates for each of the three city types\n",
    "urban = combine_data[(combine_data[\"type\"]==\"Urban\")]\n",
    "suburban = combine_data[(combine_data[\"type\"]==\"Suburban\")]\n",
    "rural =combine_data[( combine_data[\"type\"]==\"Rural\")]\n",
    "\n",
    "urban_avg= urban.groupby(\"city\")[\"fare\"].mean()\n",
    "suburban_avg= suburban.groupby(\"city\")[\"fare\"].mean()\n",
    "rural_avg= rural.groupby(\"city\")[\"fare\"].mean()\n",
    "\n",
    "urban_total= urban.groupby(\"city\")[\"fare\"].count()\n",
    "suburban_total= suburban.groupby(\"city\")[\"fare\"].count()\n",
    "rural_total= rural.groupby(\"city\")[\"fare\"].count()\n",
    "\n",
    "totaldrivers= city_data.groupby(\"city\")[\"driver_count\"].sum()\n",
    "totaldrivers\n",
    "# Build the scatter plots for each city types\n",
    "\n",
    "urban_plot = plt.scatter(urban_total, urban_avg, s=totaldrivers, alpha=.75, c='SkyBlue', edgecolor= 'grey')\n",
    "\n",
    "suburban_plot=plt.scatter(suburban_total, suburban_avg, s=totaldrivers, alpha=.75,c= 'Coral',edgecolor= 'grey')\n",
    "\n",
    "rural_plot = plt.scatter(rural_total, rural_avg, s=totaldrivers,alpha=.75, c='Gold', edgecolor='grey')\n",
    "# Incorporate the other graph properties\n",
    "plt.xlabel(\"Total Number of Rides per City\")\n",
    "plt.ylabel(\"Average Fare in $\")\n",
    "plt.title(\"Pyper Ride Sharing Analysis\")\n",
    "\n",
    "# Create a legend\n",
    "plt.legend(handles=[urban_plot,suburban_plot,rural_plot], labels=['Urban', 'Suburban', 'Rural'])\n",
    "\n",
    "\n",
    "# Incorporate a text label regarding circle size\n",
    "plt.text(42,34,\"Circle size correlates with driver count per city.\")\n",
    "\n",
    "# Save Figure\n",
    "plt.savefig(\"Pyper_Ride_Sharing.png\")\n",
    "plt.show()"
   ]
  },
  {
   "cell_type": "code",
   "execution_count": 5,
   "metadata": {},
   "outputs": [],
   "source": []
  },
  {
   "cell_type": "markdown",
   "metadata": {},
   "source": [
    "## Total Fares by City Type"
   ]
  },
  {
   "cell_type": "code",
   "execution_count": 15,
   "metadata": {},
   "outputs": [
    {
     "data": {
      "image/png": "[encoded data removed]",
      "text/plain": [
       "<Figure size 432x288 with 1 Axes>"
      ]
     },
     "metadata": {},
     "output_type": "display_data"
    },
    {
     "data": {
      "text/plain": [
       "<Figure size 432x288 with 0 Axes>"
      ]
     },
     "metadata": {},
     "output_type": "display_data"
    }
   ],
   "source": [
    "# Calculate Type Percents\n",
    "urbanfare=urban[\"fare\"].sum()\n",
    "suburbanfare=suburban[\"fare\"].sum()\n",
    "ruralfare=rural[\"fare\"].sum()\n",
    "# Build Pie Chart\n",
    "totalfare =[urbanfare,suburbanfare,ruralfare]\n",
    "explode = [.1,0,0]\n",
    "labels =[\"Urban\",\"Suburban\",\"Rural\"]\n",
    "colors = [\"coral\",\"skyblue\",\"gold\"]\n",
    "plt.pie(totalfare,labels=labels,colors=colors,autopct='%1.1f%%',shadow=True,explode=explode)\n",
    "plt.title(\"Percentage of Fares\")\n",
    "plt.show()\n",
    "# Save Figure\n",
    "plt.savefig(\"Pyper_Percentage_Fares.png\")"
   ]
  },
  {
   "cell_type": "code",
   "execution_count": null,
   "metadata": {},
   "outputs": [],
   "source": [
    "# Show Figure\n",
    "plt.show()"
   ]
  },
  {
   "cell_type": "markdown",
   "metadata": {},
   "source": [
    "## Total Rides by City Type"
   ]
  },
  {
   "cell_type": "code",
   "execution_count": 18,
   "metadata": {},
   "outputs": [
    {
     "data": {
      "image/png": "[encoded data removed]",
      "text/plain": [
       "<Figure size 432x288 with 1 Axes>"
      ]
     },
     "metadata": {},
     "output_type": "display_data"
    },
    {
     "data": {
      "text/plain": [
       "<Figure size 432x288 with 0 Axes>"
      ]
     },
     "metadata": {},
     "output_type": "display_data"
    }
   ],
   "source": [
    "# Calculate Ride Percents\n",
    "urban_ride=urban[\"ride_id\"].count()\n",
    "suburban_ride=suburban[\"ride_id\"].count()\n",
    "rural_ride=rural[\"ride_id\"].count()\n",
    "\n",
    "# Build Pie Chart\n",
    "\n",
    "\n",
    "totalfare =[urban_ride,suburban_ride,rural_ride]\n",
    "explode = [.1,0,0]\n",
    "labels =[\"Urban\",\"Suburban\",\"Rural\"]\n",
    "colors = [\"coral\",\"skyblue\",\"gold\"]\n",
    "plt.pie(totalfare,labels=labels,colors=colors,autopct='%1.1f%%',shadow=True,explode=explode)\n",
    "plt.title(\"Percentage of Rides\")\n",
    "plt.show()\n",
    "# Save Figure\n",
    "\n",
    "plt.savefig(\"Pyper_Percentage_Rides.png\")"
   ]
  },
  {
   "cell_type": "code",
   "execution_count": null,
   "metadata": {},
   "outputs": [],
   "source": [
    "# Show Figure\n",
    "plt.show()"
   ]
  },
  {
   "cell_type": "markdown",
   "metadata": {},
   "source": [
    "## Total Drivers by City Type"
   ]
  },
  {
   "cell_type": "code",
   "execution_count": 29,
   "metadata": {},
   "outputs": [
    {
     "data": {
      "image/png": "[encoded data removed]",
      "text/plain": [
       "<Figure size 432x288 with 1 Axes>"
      ]
     },
     "metadata": {},
     "output_type": "display_data"
    },
    {
     "data": {
      "text/plain": [
       "<Figure size 432x288 with 0 Axes>"
      ]
     },
     "metadata": {},
     "output_type": "display_data"
    }
   ],
   "source": [
    "# Calculate Driver Percents\n",
    "\n",
    "urbandrivers=city_data.loc[city_data[\"type\"]== \"Urban\", \"driver_count\"].sum()\n",
    "suburbandrivers=city_data.loc[city_data[\"type\"]== \"Suburban\", \"driver_count\"].sum()\n",
    "ruraldrivers=city_data.loc[city_data[\"type\"] == \"Rural\" , \"driver_count\"].sum()\n",
    "# Build Pie Chart\n",
    "totalfare =[urbandrivers,suburbandrivers,ruraldrivers]\n",
    "explode = [.1,0,0]\n",
    "labels =[\"Urban\",\"Suburban\",\"Rural\"]\n",
    "colors = [\"coral\",\"skyblue\",\"gold\"]\n",
    "plt.pie(totalfare,labels=labels,colors=colors,autopct='%1.1f%%',shadow=True,explode=explode)\n",
    "plt.title(\"Percentage of Fares\")\n",
    "plt.show()\n",
    "# Build Pie Charts\n",
    "\n",
    "# Save Figure\n",
    "plt.savefig(\"Pyper_Percentage_drivers.png\")\n"
   ]
  },
  {
   "cell_type": "code",
   "execution_count": null,
   "metadata": {
    "scrolled": true
   },
   "outputs": [],
   "source": [
    "# Show Figure\n",
    "plt.show()"
   ]
  },
  {
   "cell_type": "code",
   "execution_count": 39,
   "metadata": {},
   "outputs": [
    {
     "ename": "SyntaxError",
     "evalue": "EOL while scanning string literal (<ipython-input-39-95afedc254a5>, line 1)",
     "output_type": "error",
     "traceback": [
      "\u001b[0;36m  File \u001b[0;32m\"<ipython-input-39-95afedc254a5>\"\u001b[0;36m, line \u001b[0;32m1\u001b[0m\n\u001b[0;31m    print(\"After looking at the data and conducting the analysis, its come to the conclusion that\u001b[0m\n\u001b[0m                                                                                                  ^\u001b[0m\n\u001b[0;31mSyntaxError\u001b[0m\u001b[0;31m:\u001b[0m EOL while scanning string literal\n"
     ]
    }
   ],
   "source": [
    "print(\"After looking at the data and conducting the analysis, its come to the conclusion that \n",
    "urban cities have more rides and higher profits then the counterparts. This is due to a number of reasons. There is a \n",
    "higher demand for ride sharing in the urban cities due to more population and closer proximity of buildings. For example \n",
    "if you take a look at a city like Austin, there will be higher amounts of people wanting to use ride share around downtown area \n",
    "then if you looked at Lampasas, Texas which is 70 miles north west of Austin.\")\n",
    "      \n",
    "      \n",
    "Another observation which can be seen from the scatterplot is that the rides are more expensive in the rural then \n",
    "the urban and suburban cities. This can be due to the distance that is traveled during the rides is longer. A pasanger might be \n",
    "taking a ride to the city or to a nearby town. At the same time if you look at the view there are fewer number of rides in the \n",
    "rural areas. This is due to the lower demand in these parts. From a businesss standpoint it would still be profitable to be in the city\n",
    "then the outskirt areas because there would be more rides thus more income.\")"
   ]
  },
  {
   "cell_type": "code",
   "execution_count": null,
   "metadata": {},
   "outputs": [],
   "source": []
  }
 ],
 "metadata": {
  "anaconda-cloud": {},
  "kernelspec": {
   "display_name": "Conda [PythonData]",
   "language": "python",
   "name": "pythondata"
  },
  "language_info": {
   "codemirror_mode": {
    "name": "ipython",
    "version": 3
   },
   "file_extension": ".py",
   "mimetype": "text/x-python",
   "name": "python",
   "nbconvert_exporter": "python",
   "pygments_lexer": "ipython3",
   "version": "3.7.3"
  },
  "latex_envs": {
   "LaTeX_envs_menu_present": true,
   "autoclose": false,
   "autocomplete": true,
   "bibliofile": "biblio.bib",
   "cite_by": "apalike",
   "current_citInitial": 1,
   "eqLabelWithNumbers": true,
   "eqNumInitial": 1,
   "hotkeys": {
    "equation": "Ctrl-E",
    "itemize": "Ctrl-I"
   },
   "labels_anchors": false,
   "latex_user_defs": false,
   "report_style_numbering": false,
   "user_envs_cfg": false
  }
 },
 "nbformat": 4,
 "nbformat_minor": 2
}
